{
 "cells": [
  {
   "cell_type": "markdown",
   "metadata": {},
   "source": [
    "### Week 11: Network Analysis\n",
    "\n",
    "Instructor: Cornelia Ilin <br>\n",
    "Email: cilin@ischool.berkeley.edu <br>\n",
    "\n",
    "\n",
    "**Citations (online sources):**\n",
    "1. Intro to GIS with Python\n",
    "    - https://automating-gis-processes.github.io/site/2018/course-info/course-info.html\n",
    "\n",
    "\n",
    "2. Retrieve data from Open Street Maps (OSM) with the OSMnx package    \n",
    "    - https://osmnx.readthedocs.io/en/stable/osmnx.html?highlight=gdf#submodules\n",
    "\n",
    "\n",
    "3. Calculating distance in km (or miles) between two points\n",
    "    - https://geopy.readthedocs.io/en/stable/\n",
    "   \n",
    "    \n",
    "4. Geographical location of airports in Nairobi, Kenya\n",
    "    - https://en.wikipedia.org/wiki/Wilson_Airport\n",
    "    - https://en.wikipedia.org/wiki/Jomo_Kenyatta_International_Airport\n",
    "    - https://en.wikipedia.org/wiki/Moi_Air_Base\n",
    "\n",
    "\n",
    "5. Geographical location of power plants in Kenya\n",
    "    - https://en.wikipedia.org/wiki/List_of_power_stations_in_Kenya \n",
    "\n",
    " \n",
    "6. Conversion tool of geographical location (convert from \"Degrees, Minutes, Seconds\" to \"Decimal degrees\")\n",
    "    - https://www.vercalendario.info/en/how/convert-latitude-longitude-degrees-decimals.html\n",
    "\n",
    "7. Open Street Maps (OSM)\n",
    "    - https://en.wikipedia.org/wiki/OpenStreetMap\n",
    "    - https://www.openstreetmap.us/\n",
    "    \n",
    "8. Intro to Netowrk Analysis:\n",
    "    - https://www.amazon.com/Network-Science-Python-NetworkX-Quick/dp/1789955319"
   ]
  },
  {
   "cell_type": "markdown",
   "metadata": {},
   "source": [
    "### Objectives: \n",
    "\n",
    "Main idea: Learn how to use the OSMnx Python package to extract spatial data for any location in the world (so we need a bit of Network Analysis and Geospatial knowledge). Then use this data to build the feature vector for an ML model. The description of the main objectives is as follows:\n",
    " - GIS with Python\n",
    " - Open Street Maps (OSM) data\n",
    " - Network Analysis\n",
    " - Putting the pieces together: my own research project and connection with ML\n",
    " \n",
    "Secondary idea: Maybe you can come up with a Capstone project using this data? Think about impact using free resources."
   ]
  },
  {
   "cell_type": "markdown",
   "metadata": {},
   "source": [
    "---\n",
    "### GIS with Python:\n",
    "\n",
    " - Python is extremely useful when it comes to spatial (GIS) analysis!\n",
    " - Many GIS Software companies (such as ArcGIS, QGIS, PostGIS etc.) provide an interface to do analysis using Python scripting. \n",
    " - I recommend learning how to do GIS with Python without any third party softwares (such as ArcGIS). \n",
    " - Why? Python is free! and you can learn and understand much more deeply how different geoprocessing operations work (ArcGIS, QGIS, PostGIS etc. provide a GUI, so you don't really know what's going on under the hood).\n",
    " - Lots of (very powerful) GIS related libraries in Python:\n",
    "     - GDAL\n",
    "     - Geopandas\n",
    "     - Shapely\n",
    "     - Fiona\n",
    "     - Pyproj\n",
    "     - Pysal\n",
    "     - Geopy\n",
    "     - Contextily\n",
    "     - GeoViews\n",
    "     - Geoplot\n",
    "     - Dash\n",
    "     - OSMnx\n",
    "     - Networkx\n",
    "     - Cartopy\n",
    "     - Scipy.spatial\n",
    "     - Rtree\n",
    "     - Rasterio\n",
    "     - RSGISLib\n",
    "     \n",
    "Check here for a description of these libraries:\n",
    " - https://automating-gis-processes.github.io/site/2018/lessons/L1/Intro-Python-GIS.html#why-python-for-gis\n"
   ]
  },
  {
   "cell_type": "markdown",
   "metadata": {},
   "source": [
    "---\n",
    "### Open Street Maps (OSM) data\n",
    "- Similar to Google Maps.\n",
    "- The creation and growth of OSM has been motivated by restrictions on use or availability of map data across much of the world, and the advent of inexpensive portable satellite navigation devices (hint: try to get free spatial data from Google Maps :)\n",
    "- Prominent users of OSM include Facebook, Craigslist, Seznam, OsmAnd, Geocaching, MapQuest Open, JMP statistical software, and Foursquare. \n",
    "\n",
    "How is it created:\n",
    "   - OSM data is collected from scratch by volunteers performing systematic ground surveys using tools such as a handheld GPS unit, a notebook, digital camera, or a voice recorder. The data is then entered into the OpenStreetMap database. Mapathon competition events are also held by OpenStreetMap team and by non-profit organisations and local governments to map a particular area.\n",
    "\n",
    "   - The availability of aerial photography and other data from commercial and government sources has added important sources of data for manual editing and automated imports. Special processes are in place to handle automated imports and avoid legal and technical problems.\n",
    "   \n",
    "Check here for more information: \n",
    "- https://en.wikipedia.org/wiki/OpenStreetMap\n",
    "- https://www.openstreetmap.us/ (you can become a contributor too!!)\n"
   ]
  },
  {
   "cell_type": "markdown",
   "metadata": {},
   "source": [
    "---\n",
    "### Network Analysis\n",
    "- Multiple types of networks: social networks, flow networks, similarity networks, spatial networks.\n",
    "- Big topic, imposible to cover it in a 90 min class; but I recommend this book for some introductory material: https://www.amazon.com/Network-Science-Python-NetworkX-Quick/dp/1789955319\n",
    "- Today we will be focusing on spatial networks, in particular we will be using the OSMnx package in Python.\n",
    "- OSMnx lets you download spatial geometries and model, project, visualize, and analyze real-world street networks from OpenStreetMap's APIs. Users can download and model walkable, drivable, or bikeable urban networks with a single line of Python code, and then easily analyze and visualize them. You can just as easily download and work with amenities/points of interest, building footprints, elevation data, street bearings/orientations, speed/travel time, and network routing.\n",
    "- OSMnx is built on top of geopandas, networkx, and matplotlib and interacts with OpenStreetMap's APIs.\n",
    "\n",
    "The guy who developed OSMnx got his PhD from UC Berkeley (OSMnx was part of his thesis): https://geoffboeing.com/2016/11/osmnx-python-street-networks/\n",
    "\n",
    "Ok, a few concepts before we move on to play with the data:\n",
    "- Nodes vs. Edges? \n",
    "- Types of graphs (edges)?\n",
    "- Main Python package for the creation, manipulation, and study of the structure, dynamics, and functions of complex networks? (NetworkX)"
   ]
  },
  {
   "cell_type": "code",
   "execution_count": null,
   "metadata": {},
   "outputs": [],
   "source": [
    "from IPython.display import Image\n",
    "print('Read more here: https://pynetwork.readthedocs.io/en/latest/networkx_basics.html')\n",
    "Image(filename='network_edges1.png', width=700)"
   ]
  },
  {
   "cell_type": "markdown",
   "metadata": {},
   "source": [
    "--- \n",
    "### Putting the pieces together: \n",
    "\n",
    "``1. My research project (joint with Emilia Tjernstroem and others at UW-Madison):``\n",
    "\n",
    "**Motivation**:\n",
    "   - research on the health effects of air pollution in poor countries is scarce. \n",
    "   - main reason is data availability. Air pollutant monitoring and reporting is limited in developing countries.\n",
    "   \n",
    "**Question**:\n",
    "   - The effects of air pollution on cognitive ability (as measured by national examination test scores in Nairobi, Kenya).\n",
    "    \n",
    "**Objectives**:\n",
    "   - **Obj 1**: Generate unique high-quality data on fine particulate matter (PM2.5) in Nairobi. \n",
    "     - use NASA satellite data (I used the GIS libraries listed above to extract the data from satellite images): https://earthdata.nasa.gov/earth-observation-data/near-real-time/hazards-and-disasters/air-quality \n",
    "     - use ground-level sensor data (bought our own sensors and deployed them around Nairobi :) this was quite expensive but we used grant money Emilia secured from UW-Madison).\n",
    "     \n",
    "   - **Obj 2**: Obtain national examination test scores from the government of Nairobi (not too complicated, they trusted our research study).\n",
    "     \n",
    "   - **Obj 3**: Establish an empirical relationship between PM2.5 levels recorded at examination (school) centers and being upwind from key point sources of pollution (major roads, airports, industrial sites, and slums). \n",
    "   \n",
    "   - **Obj 4**: Estimate the causal effect of being upwind from key pollution sources on national examination student performance, as a proxy for contemporaneous cognitive impacts. \n",
    "   \n",
    "``2. Connection with ML: let's focus on Obj 3``:\n",
    "\n",
    "   - What is the outcome variable?\n",
    "   - What are the features?\n",
    "   - What ML methods we can use to solve Obj 3? (think about implications for Obj 4 as well)."
   ]
  },
  {
   "cell_type": "markdown",
   "metadata": {},
   "source": [
    "### Step 1: Import packages"
   ]
  },
  {
   "cell_type": "code",
   "execution_count": 2,
   "metadata": {},
   "outputs": [],
   "source": [
    "# general packages\n",
    "import pandas as pd\n",
    "import geopandas as gpd\n",
    "\n",
    "# plotting related packages\n",
    "import matplotlib.pyplot as plt\n",
    "import seaborn as sns\n",
    "from IPython.display import Image\n",
    "\n",
    "# GIS related packages\n",
    "import osmnx as ox\n",
    "from shapely.geometry import Point, LineString, Polygon\n",
    "from geopy import distance\n",
    "\n",
    "# ML related packages\n",
    "from sklearn.feature_selection import VarianceThreshold\n",
    "\n",
    "# others\n",
    "import time"
   ]
  },
  {
   "cell_type": "markdown",
   "metadata": {},
   "source": [
    "### Step 2: Define functions"
   ]
  },
  {
   "cell_type": "code",
   "execution_count": 3,
   "metadata": {},
   "outputs": [],
   "source": [
    "def get_centroid(data):\n",
    "    \"\"\"A function that returns the centroid of the geometry column in a geodataframe\n",
    "    #param data: geodataframe\n",
    "    #return: the centroid of an edge (road) in Series form (the data type of the column is a tuple)\n",
    "    \"\"\"\n",
    "    data_centroid_xy = []\n",
    "    for point in data.centroid: #centroid is a method in geopandas\n",
    "        temp_point = point.xy\n",
    "        temp_x = temp_point[0][0] # extract first coordinate of temp_point\n",
    "        temp_y = temp_point[1][0] # extract second coordinate of temp_point\n",
    "        temp_tuple = (temp_x, temp_y)\n",
    "        data_centroid_xy.append(temp_tuple)\n",
    "    return pd.Series(data_centroid_xy)"
   ]
  },
  {
   "cell_type": "code",
   "execution_count": 4,
   "metadata": {},
   "outputs": [],
   "source": [
    "def get_distance_to_school(schools_centroid_xy, others_centroid_xy):\n",
    "    \"\"\"A function that computes the distance between the centroid of a school and the centroid of an edge\n",
    "    #The edge can be a road, airport, power network etc\n",
    "    #param schools_centroid_xy: is Series data with school info\n",
    "    #param others_centroid_xy: is Series data with edge info\n",
    "    #return: a DataFrame with the distance (in km) from each school to an edge\n",
    "    \"\"\" \n",
    "\n",
    "    distance_to_school = []\n",
    "\n",
    "    school_count = 0\n",
    "    start_time = time.time()\n",
    "\n",
    "    print(\"Processing data...\\n\")\n",
    "    for school_point in schools_centroid_xy:\n",
    "        innerlist = []\n",
    "        school_count += 1\n",
    "        if school_count % 500 == 0:\n",
    "            print(\"Distance computed for\", school_count, \"schools\")\n",
    "            print(\"Processing data...\\n\")\n",
    "            \n",
    "        for others_point in others_centroid_xy:     \n",
    "            temp_distance = distance.distance(school_point, others_point).km\n",
    "            innerlist.append(temp_distance)\n",
    "        distance_to_school.append(innerlist)\n",
    "\n",
    "    end_time = time.time()\n",
    "    print(\"\\nThe distance (in km) was computed for\", school_count, \"schools\", end = \".\\n\")\n",
    "    print(\"There are\", schools_centroid_xy.shape[0], \"schools in the data.\")\n",
    "    print(\"\\nTime elapsed:\", round(end_time - start_time, 3), \"seconds.\")\n",
    "    \n",
    "    return pd.DataFrame(distance_to_school)"
   ]
  },
  {
   "cell_type": "code",
   "execution_count": 5,
   "metadata": {},
   "outputs": [],
   "source": [
    "def add_row_col_names(schools, edge, school_to_edge, edge_type):\n",
    "    \"\"\" A function that adds school names to the dataframe obtained from get_distance_to_school() function (school_to_edge)\n",
    "    #param1: schools is a GeoDataFrame with a column called \"name\" that indicates the name of school\n",
    "    #param2: edge is a GeoDataFrame or List with edge information, such as \"osmid\", \"name\" etc\n",
    "    #param3: school_to_edge is a DataFrame obtained from get_distance_to_school() function\n",
    "    #param4: edge_type is a List that indicates the type of edge: 1 = road, 2 = airport, 3 = plant\n",
    "    #return: school_to_edge DataFrame with rows and col names\n",
    "    \"\"\"\n",
    "   \n",
    "    # ADD COL NAMES\n",
    "    if edge_type == 1:\n",
    "        # retrive list of road osmids\n",
    "        col_name = edge[\"osmid\"].values.tolist()\n",
    "        # transform list values to strings\n",
    "        col_name_str = []\n",
    "        for value in col_name:\n",
    "            col_name_str.append(\"osmid_\" + str(value)) \n",
    "    else:\n",
    "        # retrieve list of airport names or power plant names\n",
    "        col_name = edge\n",
    "\n",
    "    # add col_names to dataframe\n",
    "    if edge_type == 1:\n",
    "        school_to_edge.columns = col_name_str\n",
    "    elif edge_type == 2 or edge_type == 3:\n",
    "        school_to_edge.columns = col_name\n",
    "        \n",
    "        \n",
    "    # ADD ROW NAMES\n",
    "    # retrive list of school names\n",
    "    school_names = schools[\"name\"].values.tolist()\n",
    "\n",
    "    # add school_name to existing dataframe at index 0\n",
    "    school_to_edge.insert(0, \"school_name\", school_names, True)\n",
    "        \n",
    "           \n",
    "    return school_to_edge "
   ]
  },
  {
   "cell_type": "code",
   "execution_count": 6,
   "metadata": {},
   "outputs": [],
   "source": [
    "def stats_for_each_school(school_to_edge):\n",
    "    \"\"\"A function that computes statistics for each school\n",
    "    #param: school_to_edge is a DataFrame obtained from get_distance_to_school() and add_row_col_names() functions\n",
    "    #return: a DataFrame containing statistics for each school (describe by line)\n",
    "    \"\"\"\n",
    "    # read all lines, all columns but for column at index == 0 (school_name)\n",
    "    school_to_edge_temp = school_to_edge.iloc[:, 1:]\n",
    "\n",
    "    # compute statistics for each school (describe by line)\n",
    "    stats_each_school = school_to_edge_temp.apply(pd.DataFrame.describe, axis = 1)\n",
    "    \n",
    "    return stats_each_school"
   ]
  },
  {
   "cell_type": "code",
   "execution_count": 7,
   "metadata": {},
   "outputs": [],
   "source": [
    "def stats_for_all_schools(stats_each_school):\n",
    "    \"\"\"A function that computes statistics for all schools\n",
    "    #param stats_each_school: is a DataFrame containing statistics for each school (describe by line, derived from stats_for_each_school() function\n",
    "    #return: a DataFrame containing statistics for all schools (describe by column)\n",
    "    \"\"\"\n",
    "    stats_all_schools = stats_each_school.apply(pd.DataFrame.describe, axis = 0)\n",
    "    \n",
    "    return stats_all_schools"
   ]
  },
  {
   "cell_type": "markdown",
   "metadata": {},
   "source": [
    "---\n",
    "### Step 3: Extract spatial info on major roads \n",
    "---\n",
    "(needed to build the feature matrix needed for Objective 2)"
   ]
  },
  {
   "cell_type": "markdown",
   "metadata": {},
   "source": [
    "#### (A) Fetch the OSM street network for Nairobi, Kenya\n",
    "\n",
    "Uses the OSMnx package in Python:\n",
    "\n",
    "- **@module** osmnx.core <br>\n",
    "- **@method** graph_from_place()\n",
    "- **@param** network_type (options below):\n",
    "        * drive: get drivable public streets (but not service roads)\n",
    "        * drive_service: get drivable streets, including service roads\n",
    "        * walk: get all streets and paths that pedestrians can use (this network type ignores one-way directionality)\n",
    "        * bike: get all streets and paths that cyclists can use\n",
    "        * all: download all non-private OSM streets and paths\n",
    "        * all_private: download all OSM streets and paths, including private-access ones\n",
    "- **@return** MultiDiGraph"
   ]
  },
  {
   "cell_type": "code",
   "execution_count": 8,
   "metadata": {},
   "outputs": [],
   "source": [
    "place_name = \"Nairobi, Kenya\"\n",
    "graph = ox.graph_from_place(place_name, network_type = \"all_private\")"
   ]
  },
  {
   "cell_type": "markdown",
   "metadata": {},
   "source": [
    "Let's look at the type of the graph we just created."
   ]
  },
  {
   "cell_type": "code",
   "execution_count": 9,
   "metadata": {},
   "outputs": [
    {
     "name": "stdout",
     "output_type": "stream",
     "text": [
      "<class 'networkx.classes.multidigraph.MultiDiGraph'>\n"
     ]
    }
   ],
   "source": [
    "print(type(graph))"
   ]
  },
  {
   "cell_type": "markdown",
   "metadata": {},
   "source": [
    "A MultiDiGraph is a directed graph class that can store multiedges.\n",
    "\n",
    "Multiedges are multiple edges between two nodes. Each edge can hold optional data or attributes. \n",
    "\n",
    "A MultiDiGraph holds directed edges. Self loops are allowed.\n",
    "\n",
    "Examples?"
   ]
  },
  {
   "cell_type": "markdown",
   "metadata": {},
   "source": [
    "#### (B) Plot the OSM street network for Nairobi, Kenya\n",
    "\n",
    "Uses the OSMnx package in Python:\n",
    "- **@module** osmnx.core <br> \n",
    "- **@method** plot_graph()\n",
    "\n",
    "Terminology: \n",
    "- nodes = intersections (blue circles)\n",
    "- edges = roads (grey lines)"
   ]
  },
  {
   "cell_type": "code",
   "execution_count": 10,
   "metadata": {},
   "outputs": [
    {
     "data": {
      "image/png": "[encoded data removed]",
      "text/plain": [
       "<Figure size 698.528x432 with 1 Axes>"
      ]
     },
     "metadata": {},
     "output_type": "display_data"
    }
   ],
   "source": [
    "fig, ax = ox.plot_graph(graph) "
   ]
  },
  {
   "cell_type": "markdown",
   "metadata": {},
   "source": [
    "#### (C) Extract edges (roads) attributes\n",
    "To get this data we need to transform the graph of the street network into a GeoDataFrame\n",
    "\n",
    "Uses the OSMnx package in Python:\n",
    "\n",
    "- **@module** osmnx.core <br> \n",
    "- **@method** graph_to_gdfs()\n",
    "- **@return** GeoDataFrame"
   ]
  },
  {
   "cell_type": "code",
   "execution_count": 11,
   "metadata": {},
   "outputs": [],
   "source": [
    "nodes, edges = ox.graph_to_gdfs(graph, nodes = True, edges = True)"
   ]
  },
  {
   "cell_type": "code",
   "execution_count": 12,
   "metadata": {},
   "outputs": [
    {
     "data": {
      "text/html": [
       "<div>\n",
       "<style scoped>\n",
       "    .dataframe tbody tr th:only-of-type {\n",
       "        vertical-align: middle;\n",
       "    }\n",
       "\n",
       "    .dataframe tbody tr th {\n",
       "        vertical-align: top;\n",
       "    }\n",
       "\n",
       "    .dataframe thead th {\n",
       "        text-align: right;\n",
       "    }\n",
       "</style>\n",
       "<table border=\"1\" class=\"dataframe\">\n",
       "  <thead>\n",
       "    <tr style=\"text-align: right;\">\n",
       "      <th></th>\n",
       "      <th>y</th>\n",
       "      <th>x</th>\n",
       "      <th>osmid</th>\n",
       "      <th>highway</th>\n",
       "      <th>ref</th>\n",
       "      <th>geometry</th>\n",
       "    </tr>\n",
       "  </thead>\n",
       "  <tbody>\n",
       "    <tr>\n",
       "      <th>6010044417</th>\n",
       "      <td>-1.252708</td>\n",
       "      <td>36.886087</td>\n",
       "      <td>6010044417</td>\n",
       "      <td>NaN</td>\n",
       "      <td>NaN</td>\n",
       "      <td>POINT (36.8860871 -1.2527077)</td>\n",
       "    </tr>\n",
       "    <tr>\n",
       "      <th>6361710596</th>\n",
       "      <td>-1.324464</td>\n",
       "      <td>36.785208</td>\n",
       "      <td>6361710596</td>\n",
       "      <td>NaN</td>\n",
       "      <td>NaN</td>\n",
       "      <td>POINT (36.785208 -1.3244642)</td>\n",
       "    </tr>\n",
       "  </tbody>\n",
       "</table>\n",
       "</div>"
      ],
      "text/plain": [
       "                   y          x       osmid highway  ref  \\\n",
       "6010044417 -1.252708  36.886087  6010044417     NaN  NaN   \n",
       "6361710596 -1.324464  36.785208  6361710596     NaN  NaN   \n",
       "\n",
       "                                 geometry  \n",
       "6010044417  POINT (36.8860871 -1.2527077)  \n",
       "6361710596   POINT (36.785208 -1.3244642)  "
      ]
     },
     "execution_count": 12,
     "metadata": {},
     "output_type": "execute_result"
    }
   ],
   "source": [
    "# let's look at nodes (intersections) attributes\n",
    "nodes.head(2)"
   ]
  },
  {
   "cell_type": "code",
   "execution_count": 13,
   "metadata": {
    "scrolled": true
   },
   "outputs": [
    {
     "data": {
      "text/html": [
       "<div>\n",
       "<style scoped>\n",
       "    .dataframe tbody tr th:only-of-type {\n",
       "        vertical-align: middle;\n",
       "    }\n",
       "\n",
       "    .dataframe tbody tr th {\n",
       "        vertical-align: top;\n",
       "    }\n",
       "\n",
       "    .dataframe thead th {\n",
       "        text-align: right;\n",
       "    }\n",
       "</style>\n",
       "<table border=\"1\" class=\"dataframe\">\n",
       "  <thead>\n",
       "    <tr style=\"text-align: right;\">\n",
       "      <th></th>\n",
       "      <th>u</th>\n",
       "      <th>v</th>\n",
       "      <th>key</th>\n",
       "      <th>osmid</th>\n",
       "      <th>highway</th>\n",
       "      <th>oneway</th>\n",
       "      <th>length</th>\n",
       "      <th>geometry</th>\n",
       "      <th>name</th>\n",
       "      <th>junction</th>\n",
       "      <th>ref</th>\n",
       "      <th>maxspeed</th>\n",
       "      <th>service</th>\n",
       "      <th>lanes</th>\n",
       "      <th>access</th>\n",
       "      <th>width</th>\n",
       "      <th>bridge</th>\n",
       "      <th>tunnel</th>\n",
       "    </tr>\n",
       "  </thead>\n",
       "  <tbody>\n",
       "    <tr>\n",
       "      <th>0</th>\n",
       "      <td>6010044417</td>\n",
       "      <td>6013617036</td>\n",
       "      <td>0</td>\n",
       "      <td>[637515176, 637969614]</td>\n",
       "      <td>residential</td>\n",
       "      <td>False</td>\n",
       "      <td>171.166</td>\n",
       "      <td>LINESTRING (36.8860871 -1.2527077, 36.8861581 ...</td>\n",
       "      <td>NaN</td>\n",
       "      <td>NaN</td>\n",
       "      <td>NaN</td>\n",
       "      <td>NaN</td>\n",
       "      <td>NaN</td>\n",
       "      <td>NaN</td>\n",
       "      <td>NaN</td>\n",
       "      <td>NaN</td>\n",
       "      <td>NaN</td>\n",
       "      <td>NaN</td>\n",
       "    </tr>\n",
       "    <tr>\n",
       "      <th>1</th>\n",
       "      <td>6010044417</td>\n",
       "      <td>3776677049</td>\n",
       "      <td>0</td>\n",
       "      <td>728733448</td>\n",
       "      <td>unclassified</td>\n",
       "      <td>False</td>\n",
       "      <td>31.673</td>\n",
       "      <td>LINESTRING (36.8860871 -1.2527077, 36.8859764 ...</td>\n",
       "      <td>Kamunde Road</td>\n",
       "      <td>NaN</td>\n",
       "      <td>NaN</td>\n",
       "      <td>NaN</td>\n",
       "      <td>NaN</td>\n",
       "      <td>NaN</td>\n",
       "      <td>NaN</td>\n",
       "      <td>NaN</td>\n",
       "      <td>NaN</td>\n",
       "      <td>NaN</td>\n",
       "    </tr>\n",
       "  </tbody>\n",
       "</table>\n",
       "</div>"
      ],
      "text/plain": [
       "            u           v  key                   osmid       highway  oneway  \\\n",
       "0  6010044417  6013617036    0  [637515176, 637969614]   residential   False   \n",
       "1  6010044417  3776677049    0               728733448  unclassified   False   \n",
       "\n",
       "    length                                           geometry          name  \\\n",
       "0  171.166  LINESTRING (36.8860871 -1.2527077, 36.8861581 ...           NaN   \n",
       "1   31.673  LINESTRING (36.8860871 -1.2527077, 36.8859764 ...  Kamunde Road   \n",
       "\n",
       "  junction  ref maxspeed service lanes access width bridge tunnel  \n",
       "0      NaN  NaN      NaN     NaN   NaN    NaN   NaN    NaN    NaN  \n",
       "1      NaN  NaN      NaN     NaN   NaN    NaN   NaN    NaN    NaN  "
      ]
     },
     "execution_count": 13,
     "metadata": {},
     "output_type": "execute_result"
    }
   ],
   "source": [
    "# let's look at edges (roads) attributes\n",
    "edges.head(2)"
   ]
  },
  {
   "cell_type": "code",
   "execution_count": 14,
   "metadata": {},
   "outputs": [
    {
     "name": "stdout",
     "output_type": "stream",
     "text": [
      "LINESTRING (36.8860871 -1.2527077, 36.8861581 -1.2528485, 36.8862279 -1.2529356, 36.8863191 -1.2530215, 36.886535 -1.2532132, 36.8866892 -1.2533674, 36.8868045 -1.2535001, 36.8870259 -1.2537897, 36.8870771 -1.253873)\n"
     ]
    }
   ],
   "source": [
    "# let's look at the geometry of the first road listed\n",
    "print(edges.geometry[0])"
   ]
  },
  {
   "cell_type": "code",
   "execution_count": 15,
   "metadata": {},
   "outputs": [
    {
     "data": {
      "image/svg+xml": [
       "<svg xmlns=\"http://www.w3.org/2000/svg\" xmlns:xlink=\"http://www.w3.org/1999/xlink\" width=\"100.0\" height=\"100.0\" viewBox=\"36.886040488 -1.253919612 0.001083223999998495 0.0012585240000000386\" preserveAspectRatio=\"xMinYMin meet\"><g transform=\"matrix(1,0,0,-1,0,-2.5065806999999998)\"><polyline fill=\"none\" stroke=\"#66cc99\" stroke-width=\"2.5170480000000773e-05\" points=\"36.8860871,-1.2527077 36.8861581,-1.2528485 36.8862279,-1.2529356 36.8863191,-1.2530215 36.886535,-1.2532132 36.8866892,-1.2533674 36.8868045,-1.2535001 36.8870259,-1.2537897 36.8870771,-1.253873\" opacity=\"0.8\" /></g></svg>"
      ],
      "text/plain": [
       "<shapely.geometry.linestring.LineString at 0x21d8e4fa048>"
      ]
     },
     "execution_count": 15,
     "metadata": {},
     "output_type": "execute_result"
    }
   ],
   "source": [
    "edges.loc[0,'geometry']"
   ]
  },
  {
   "cell_type": "markdown",
   "metadata": {},
   "source": [
    "``Question:`` What is a linestring? https://automating-gis-processes.github.io/site/2018/notebooks/L1/geometric-objects.html"
   ]
  },
  {
   "cell_type": "markdown",
   "metadata": {},
   "source": [
    "Note: Check the OSM and OSMnx package documentation for information on attributes information!"
   ]
  },
  {
   "cell_type": "markdown",
   "metadata": {},
   "source": [
    "#### (D) Summary statistics"
   ]
  },
  {
   "cell_type": "code",
   "execution_count": 16,
   "metadata": {},
   "outputs": [
    {
     "name": "stdout",
     "output_type": "stream",
     "text": [
      "The roads data has 120558 observations."
     ]
    }
   ],
   "source": [
    "# print number of rows in edges (roads)\n",
    "print(\"The roads data has\", edges.shape[0], \"observations\", end = \".\")"
   ]
  },
  {
   "cell_type": "code",
   "execution_count": 17,
   "metadata": {
    "scrolled": true
   },
   "outputs": [
    {
     "name": "stdout",
     "output_type": "stream",
     "text": [
      "Printing count of roads by type...\n",
      "\n"
     ]
    },
    {
     "data": {
      "text/plain": [
       "residential                          76187\n",
       "service                              16936\n",
       "unclassified                          7641\n",
       "tertiary                              5455\n",
       "path                                  4224\n",
       "secondary                             3306\n",
       "footway                               2608\n",
       "track                                 1916\n",
       "primary                                650\n",
       "trunk                                  462\n",
       "secondary_link                         170\n",
       "trunk_link                             170\n",
       "pedestrian                             124\n",
       "cycleway                               114\n",
       "[path, residential]                    112\n",
       "primary_link                            99\n",
       "tertiary_link                           96\n",
       "[path, footway]                         50\n",
       "[service, residential]                  46\n",
       "[footway, residential]                  24\n",
       "[track, residential]                    22\n",
       "[residential, footway]                  18\n",
       "[service, footway]                      18\n",
       "[track, footway]                        12\n",
       "steps                                   12\n",
       "[residential, unclassified]              8\n",
       "[service, path]                          8\n",
       "[unclassified, residential]              8\n",
       "[path, service]                          8\n",
       "[path, track]                            6\n",
       "[footway, steps]                         6\n",
       "[track, unclassified]                    4\n",
       "[service, track]                         4\n",
       "[footway, corridor]                      2\n",
       "living_street                            2\n",
       "[residential, secondary]                 2\n",
       "[primary_link, primary]                  2\n",
       "[path, track, residential]               2\n",
       "[pedestrian, residential]                2\n",
       "[residential, pedestrian]                2\n",
       "[tertiary, tertiary_link]                2\n",
       "[path, unclassified]                     2\n",
       "[service, cycleway]                      2\n",
       "[unclassified, footway]                  2\n",
       "[path, track, footway]                   2\n",
       "[footway, unclassified]                  2\n",
       "[service, unclassified]                  2\n",
       "[pedestrian, footway]                    1\n",
       "[footway, pedestrian]                    1\n",
       "[path, unclassified, residential]        1\n",
       "[path, residential, unclassified]        1\n",
       "[trunk, trunk_link]                      1\n",
       "[trunk_link, trunk]                      1\n",
       "Name: highway, dtype: int64"
      ]
     },
     "execution_count": 17,
     "metadata": {},
     "output_type": "execute_result"
    }
   ],
   "source": [
    "# print number of edges (roads) by type\n",
    "print(\"Printing count of roads by type...\\n\")\n",
    "edges['highway'].value_counts()"
   ]
  },
  {
   "cell_type": "code",
   "execution_count": 18,
   "metadata": {},
   "outputs": [
    {
     "data": {
      "text/html": [
       "<div>\n",
       "<style scoped>\n",
       "    .dataframe tbody tr th:only-of-type {\n",
       "        vertical-align: middle;\n",
       "    }\n",
       "\n",
       "    .dataframe tbody tr th {\n",
       "        vertical-align: top;\n",
       "    }\n",
       "\n",
       "    .dataframe thead th {\n",
       "        text-align: right;\n",
       "    }\n",
       "</style>\n",
       "<table border=\"1\" class=\"dataframe\">\n",
       "  <thead>\n",
       "    <tr style=\"text-align: right;\">\n",
       "      <th></th>\n",
       "      <th>length</th>\n",
       "    </tr>\n",
       "  </thead>\n",
       "  <tbody>\n",
       "    <tr>\n",
       "      <th>count</th>\n",
       "      <td>120558.000000</td>\n",
       "    </tr>\n",
       "    <tr>\n",
       "      <th>mean</th>\n",
       "      <td>103.582293</td>\n",
       "    </tr>\n",
       "    <tr>\n",
       "      <th>std</th>\n",
       "      <td>135.630815</td>\n",
       "    </tr>\n",
       "    <tr>\n",
       "      <th>min</th>\n",
       "      <td>0.399000</td>\n",
       "    </tr>\n",
       "    <tr>\n",
       "      <th>25%</th>\n",
       "      <td>38.819000</td>\n",
       "    </tr>\n",
       "    <tr>\n",
       "      <th>50%</th>\n",
       "      <td>69.051500</td>\n",
       "    </tr>\n",
       "    <tr>\n",
       "      <th>75%</th>\n",
       "      <td>126.392250</td>\n",
       "    </tr>\n",
       "    <tr>\n",
       "      <th>max</th>\n",
       "      <td>6671.760000</td>\n",
       "    </tr>\n",
       "  </tbody>\n",
       "</table>\n",
       "</div>"
      ],
      "text/plain": [
       "              length\n",
       "count  120558.000000\n",
       "mean      103.582293\n",
       "std       135.630815\n",
       "min         0.399000\n",
       "25%        38.819000\n",
       "50%        69.051500\n",
       "75%       126.392250\n",
       "max      6671.760000"
      ]
     },
     "execution_count": 18,
     "metadata": {},
     "output_type": "execute_result"
    }
   ],
   "source": [
    "# print stats on edges (roads) length\n",
    "length = edges[[\"length\"]]\n",
    "length.describe()"
   ]
  },
  {
   "cell_type": "code",
   "execution_count": 19,
   "metadata": {},
   "outputs": [
    {
     "data": {
      "image/png": "[encoded data removed]",
      "text/plain": [
       "<Figure size 432x288 with 1 Axes>"
      ]
     },
     "metadata": {},
     "output_type": "display_data"
    }
   ],
   "source": [
    "# print histogram of edges (roads) length\n",
    "sns.set()\n",
    "sns.set_color_codes()\n",
    "sns.distplot(length, bins = 200, kde=False, rug = True, color = \"b\")\n",
    "\n",
    "plt.title(\"Roads length in Nairobi, Kenya\", fontsize = 16);\n",
    "\n",
    "# axes\n",
    "plt.xlabel(\"length in meters\")\n",
    "plt.ylabel(\"number of roads\");"
   ]
  },
  {
   "cell_type": "markdown",
   "metadata": {},
   "source": [
    "#### (E) Data preprocessing"
   ]
  },
  {
   "cell_type": "markdown",
   "metadata": {},
   "source": [
    "##### Compute the centroid_xy point of each road\n",
    "Notation: (y = lat, x = lon)\n",
    "\n",
    "**Note**: no need to specify \"geometry\" for the column name. The centroid and bounds functions are implicitly applied to the \"geometry\" column"
   ]
  },
  {
   "cell_type": "code",
   "execution_count": 20,
   "metadata": {},
   "outputs": [
    {
     "name": "stdout",
     "output_type": "stream",
     "text": [
      "Printing head of edges(roads) centroid...\n",
      "\n"
     ]
    },
    {
     "data": {
      "text/plain": [
       "0    (36.88658437976929, -1.2532858648195342)\n",
       "1    (36.88594502505185, -1.2526982173813719)\n",
       "dtype: object"
      ]
     },
     "execution_count": 20,
     "metadata": {},
     "output_type": "execute_result"
    }
   ],
   "source": [
    "## compute the edges (roads) centroid \n",
    "edges_centroid_xy = get_centroid(edges)\n",
    "\n",
    "# print head of roads_centroid (first 2 rows)\n",
    "print(\"Printing head of edges(roads) centroid...\\n\")\n",
    "edges_centroid_xy.head(2)"
   ]
  },
  {
   "cell_type": "markdown",
   "metadata": {},
   "source": [
    "---\n",
    "### Step 4: Extract spatial info on schools\n",
    "---\n",
    "(needed to build the feature matrix needed for Objective 2)"
   ]
  },
  {
   "cell_type": "markdown",
   "metadata": {},
   "source": [
    "#### (A) Fetch school network for Nairobi, Kenya\n",
    "\n",
    "Uses the OSMnx package in Python:<br>\n",
    "\n",
    "- **@module**: osmnx.pois <br>\n",
    "- **@method**: pois_from_place()<br>\n",
    "- **@return**: GeoDataFrame\n",
    "\n",
    "\n",
    "Use the OSM amenities information:\n",
    "- https://wiki.openstreetmap.org/wiki/Key:amenity#Education"
   ]
  },
  {
   "cell_type": "markdown",
   "metadata": {},
   "source": [
    "\"school\" (includes primary, middle and secondary schools)"
   ]
  },
  {
   "cell_type": "code",
   "execution_count": 21,
   "metadata": {},
   "outputs": [],
   "source": [
    "schools = ox.pois_from_place(place_name, amenities=['school']) # change amenities variable if you want power plants, airports, etc"
   ]
  },
  {
   "cell_type": "code",
   "execution_count": 22,
   "metadata": {},
   "outputs": [
    {
     "data": {
      "text/html": [
       "<div>\n",
       "<style scoped>\n",
       "    .dataframe tbody tr th:only-of-type {\n",
       "        vertical-align: middle;\n",
       "    }\n",
       "\n",
       "    .dataframe tbody tr th {\n",
       "        vertical-align: top;\n",
       "    }\n",
       "\n",
       "    .dataframe thead th {\n",
       "        text-align: right;\n",
       "    }\n",
       "</style>\n",
       "<table border=\"1\" class=\"dataframe\">\n",
       "  <thead>\n",
       "    <tr style=\"text-align: right;\">\n",
       "      <th></th>\n",
       "      <th>osmid</th>\n",
       "      <th>geometry</th>\n",
       "      <th>amenity</th>\n",
       "      <th>name</th>\n",
       "      <th>element_type</th>\n",
       "      <th>created_by</th>\n",
       "      <th>addr:city</th>\n",
       "      <th>addr:street</th>\n",
       "      <th>accessibility</th>\n",
       "      <th>boundary_type:Ward_boundary</th>\n",
       "      <th>...</th>\n",
       "      <th>ref</th>\n",
       "      <th>fence_type</th>\n",
       "      <th>wikipedia</th>\n",
       "      <th>noaddress</th>\n",
       "      <th>roof:colour</th>\n",
       "      <th>roof:levels</th>\n",
       "      <th>roof:shape</th>\n",
       "      <th>addr:housename</th>\n",
       "      <th>population</th>\n",
       "      <th>service_times</th>\n",
       "    </tr>\n",
       "  </thead>\n",
       "  <tbody>\n",
       "    <tr>\n",
       "      <th>30092225</th>\n",
       "      <td>30092225</td>\n",
       "      <td>POINT (36.8235624 -1.3142125)</td>\n",
       "      <td>school</td>\n",
       "      <td>Nairobi South</td>\n",
       "      <td>node</td>\n",
       "      <td>NaN</td>\n",
       "      <td>NaN</td>\n",
       "      <td>NaN</td>\n",
       "      <td>NaN</td>\n",
       "      <td>NaN</td>\n",
       "      <td>...</td>\n",
       "      <td>NaN</td>\n",
       "      <td>NaN</td>\n",
       "      <td>NaN</td>\n",
       "      <td>NaN</td>\n",
       "      <td>NaN</td>\n",
       "      <td>NaN</td>\n",
       "      <td>NaN</td>\n",
       "      <td>NaN</td>\n",
       "      <td>NaN</td>\n",
       "      <td>NaN</td>\n",
       "    </tr>\n",
       "    <tr>\n",
       "      <th>30092294</th>\n",
       "      <td>30092294</td>\n",
       "      <td>POINT (36.7532749 -1.3401766)</td>\n",
       "      <td>school</td>\n",
       "      <td>Nairobi Academy Secondary</td>\n",
       "      <td>node</td>\n",
       "      <td>JOSM</td>\n",
       "      <td>NaN</td>\n",
       "      <td>NaN</td>\n",
       "      <td>NaN</td>\n",
       "      <td>NaN</td>\n",
       "      <td>...</td>\n",
       "      <td>NaN</td>\n",
       "      <td>NaN</td>\n",
       "      <td>NaN</td>\n",
       "      <td>NaN</td>\n",
       "      <td>NaN</td>\n",
       "      <td>NaN</td>\n",
       "      <td>NaN</td>\n",
       "      <td>NaN</td>\n",
       "      <td>NaN</td>\n",
       "      <td>NaN</td>\n",
       "    </tr>\n",
       "  </tbody>\n",
       "</table>\n",
       "<p>2 rows × 265 columns</p>\n",
       "</div>"
      ],
      "text/plain": [
       "             osmid                       geometry amenity  \\\n",
       "30092225  30092225  POINT (36.8235624 -1.3142125)  school   \n",
       "30092294  30092294  POINT (36.7532749 -1.3401766)  school   \n",
       "\n",
       "                               name element_type created_by addr:city  \\\n",
       "30092225              Nairobi South         node        NaN       NaN   \n",
       "30092294  Nairobi Academy Secondary         node       JOSM       NaN   \n",
       "\n",
       "         addr:street accessibility boundary_type:Ward_boundary  ...  ref  \\\n",
       "30092225         NaN           NaN                         NaN  ...  NaN   \n",
       "30092294         NaN           NaN                         NaN  ...  NaN   \n",
       "\n",
       "         fence_type wikipedia noaddress roof:colour roof:levels roof:shape  \\\n",
       "30092225        NaN       NaN       NaN         NaN         NaN        NaN   \n",
       "30092294        NaN       NaN       NaN         NaN         NaN        NaN   \n",
       "\n",
       "         addr:housename population service_times  \n",
       "30092225            NaN        NaN           NaN  \n",
       "30092294            NaN        NaN           NaN  \n",
       "\n",
       "[2 rows x 265 columns]"
      ]
     },
     "execution_count": 22,
     "metadata": {},
     "output_type": "execute_result"
    }
   ],
   "source": [
    "# print head of schools\n",
    "schools.head(2)"
   ]
  },
  {
   "cell_type": "markdown",
   "metadata": {},
   "source": [
    "Note: Check OSM and OSMnx package for a description of school attributes!"
   ]
  },
  {
   "cell_type": "code",
   "execution_count": 23,
   "metadata": {},
   "outputs": [
    {
     "data": {
      "text/plain": [
       "geopandas.geodataframe.GeoDataFrame"
      ]
     },
     "execution_count": 23,
     "metadata": {},
     "output_type": "execute_result"
    }
   ],
   "source": [
    "# keep only the name and geometry columns (the school data has lots of attributes)\n",
    "schools = schools[[\"name\", \"geometry\"]]\n",
    "type(schools)"
   ]
  },
  {
   "cell_type": "code",
   "execution_count": 24,
   "metadata": {},
   "outputs": [
    {
     "name": "stdout",
     "output_type": "stream",
     "text": [
      "Printing head of schools...\n",
      "\n"
     ]
    },
    {
     "data": {
      "text/html": [
       "<div>\n",
       "<style scoped>\n",
       "    .dataframe tbody tr th:only-of-type {\n",
       "        vertical-align: middle;\n",
       "    }\n",
       "\n",
       "    .dataframe tbody tr th {\n",
       "        vertical-align: top;\n",
       "    }\n",
       "\n",
       "    .dataframe thead th {\n",
       "        text-align: right;\n",
       "    }\n",
       "</style>\n",
       "<table border=\"1\" class=\"dataframe\">\n",
       "  <thead>\n",
       "    <tr style=\"text-align: right;\">\n",
       "      <th></th>\n",
       "      <th>name</th>\n",
       "      <th>geometry</th>\n",
       "    </tr>\n",
       "  </thead>\n",
       "  <tbody>\n",
       "    <tr>\n",
       "      <th>30092225</th>\n",
       "      <td>Nairobi South</td>\n",
       "      <td>POINT (36.8235624 -1.3142125)</td>\n",
       "    </tr>\n",
       "    <tr>\n",
       "      <th>30092294</th>\n",
       "      <td>Nairobi Academy Secondary</td>\n",
       "      <td>POINT (36.7532749 -1.3401766)</td>\n",
       "    </tr>\n",
       "    <tr>\n",
       "      <th>30312225</th>\n",
       "      <td>Consolata School</td>\n",
       "      <td>POINT (36.8040596 -1.2674856)</td>\n",
       "    </tr>\n",
       "    <tr>\n",
       "      <th>30402763</th>\n",
       "      <td>Aga Khan Nursery</td>\n",
       "      <td>POINT (36.8149215 -1.2721676)</td>\n",
       "    </tr>\n",
       "  </tbody>\n",
       "</table>\n",
       "</div>"
      ],
      "text/plain": [
       "                               name                       geometry\n",
       "30092225              Nairobi South  POINT (36.8235624 -1.3142125)\n",
       "30092294  Nairobi Academy Secondary  POINT (36.7532749 -1.3401766)\n",
       "30312225           Consolata School  POINT (36.8040596 -1.2674856)\n",
       "30402763           Aga Khan Nursery  POINT (36.8149215 -1.2721676)"
      ]
     },
     "execution_count": 24,
     "metadata": {},
     "output_type": "execute_result"
    }
   ],
   "source": [
    "# print head of schools (first 2 rows)\n",
    "print(\"Printing head of schools...\\n\")\n",
    "schools.head(4)"
   ]
  },
  {
   "cell_type": "markdown",
   "metadata": {},
   "source": [
    "#### (B) Print school network for Nairobi, Kenya"
   ]
  },
  {
   "cell_type": "markdown",
   "metadata": {},
   "source": [
    "Uses the OSMnx package in Python:\n",
    "\n",
    "- **@module** osmnx.plot <br> \n",
    "- **@method** gdf_from_place()\n",
    "- **@return** GeoDataFrame"
   ]
  },
  {
   "cell_type": "code",
   "execution_count": 25,
   "metadata": {},
   "outputs": [],
   "source": [
    "area = ox.gdf_from_place(place_name) "
   ]
  },
  {
   "cell_type": "code",
   "execution_count": 26,
   "metadata": {},
   "outputs": [
    {
     "data": {
      "text/plain": [
       "Text(12.625, 0.5, 'Latitude')"
      ]
     },
     "execution_count": 26,
     "metadata": {},
     "output_type": "execute_result"
    },
    {
     "data": {
      "image/png": "[encoded data removed]",
      "text/plain": [
       "<Figure size 432x288 with 1 Axes>"
      ]
     },
     "metadata": {},
     "output_type": "display_data"
    }
   ],
   "source": [
    "# plot footprint\n",
    "ax = area.plot(facecolor = \"black\")\n",
    "\n",
    "# plot schools\n",
    "schools.plot(ax = ax, alpha = 1.0) \n",
    "plt.tight_layout()\n",
    "\n",
    "# add title, x,y-labels to graph\n",
    "plt.title(\"Schools in Nairobi, Kenya\")\n",
    "plt.xlabel(\"Longitude\")\n",
    "plt.ylabel(\"Latitude\")"
   ]
  },
  {
   "cell_type": "markdown",
   "metadata": {},
   "source": [
    "#### (C) Data preprocessing"
   ]
  },
  {
   "cell_type": "markdown",
   "metadata": {},
   "source": [
    "##### 1. Eliminate schools with N/A names"
   ]
  },
  {
   "cell_type": "code",
   "execution_count": 27,
   "metadata": {},
   "outputs": [
    {
     "name": "stdout",
     "output_type": "stream",
     "text": [
      "Before cleaning: 1576 observations.\n",
      "After cleaning: 1543 observations."
     ]
    }
   ],
   "source": [
    "print(\"Before cleaning:\", schools.shape[0], \\\n",
    "      \"observations\", end = \".\\n\")\n",
    "\n",
    "schools = schools.dropna()\n",
    "\n",
    "print(\"After cleaning:\", schools.shape[0], \\\n",
    "      \"observations\", end = \".\")"
   ]
  },
  {
   "cell_type": "markdown",
   "metadata": {},
   "source": [
    "##### 2. Eliminate schools outside the boundary (based on QGIS OSM IDs)"
   ]
  },
  {
   "cell_type": "code",
   "execution_count": 28,
   "metadata": {},
   "outputs": [
    {
     "name": "stdout",
     "output_type": "stream",
     "text": [
      "92 schools are located outsise Nairobi.\n"
     ]
    }
   ],
   "source": [
    "# define schools outside boundary based on OSM IDs\n",
    "outside_boundary_schools = [\n",
    "                    1045131871, 1045131916, 1045132244, 1460334555, 166758318, 2108765326, 240567784, 3519412636,\n",
    "                    416096045, 419031345, 419423629, 419717503, 419821985, 4228290789, 4314055890, 4314130301,\n",
    "                    4314130302, 4315869357, 4315869365, 4315869370, 4315869376, 4315869377, 4315869381, 4324874603,\n",
    "                    4324883022, 4324895091, 4326570021, 4379869790, 4759123734, 4809559628, 4810801027, 5063910829,\n",
    "                    5063910831, 5196737730, 5221207076, 5327794349, 5327794350, 5327912236, 5329734349, 5331561433,\n",
    "                    5331570283, 5331573169, 5331578567, 5336236341, 5343447771, 540697399, 553583949, 553584168,\n",
    "                    553602897, 553799062, 553799985, 553801022, 554633619, 584741967, 5922562085, 6116638611,\n",
    "                    6116638649, 6210202511, 6210202575, 6210202604, 6210240731, 6216321665, 6216321680, 6216407131,\n",
    "                    6216424333, 6216424337, 6218304899, 6218304911, 6218304919, 6218304920, 6218487554, 6218599558,\n",
    "                    6249035787, 6249035795, 6249035796, 6249723267, 6251534664, 6251561081, 6257535845, 6257535857,\n",
    "                    6257554186, 652450311, 659044115, 659862758, 660649622, 660649863, 663479352, 663479353,\n",
    "                    663560187, 667481477, 667672544, 703087745\n",
    "                  ]\n",
    "print(len(outside_boundary_schools), \"schools are located outsise Nairobi.\")"
   ]
  },
  {
   "cell_type": "code",
   "execution_count": 29,
   "metadata": {},
   "outputs": [
    {
     "name": "stdout",
     "output_type": "stream",
     "text": [
      "The schools data now has 1452 observations."
     ]
    }
   ],
   "source": [
    "# eliminate outside boundary schools \n",
    "# add all other schools to a list\n",
    "temp_schools = []\n",
    "for index, row in schools.iterrows():\n",
    "    if index in outside_boundary_schools:\n",
    "        continue\n",
    "    temp_schools.append(row)  \n",
    "    \n",
    "# transform list to GeoDataFrame\n",
    "schools = gpd.GeoDataFrame(temp_schools)\n",
    "\n",
    "print(\"The schools data now has\", schools.shape[0], \\\n",
    "      \"observations\", end = \".\")"
   ]
  },
  {
   "cell_type": "markdown",
   "metadata": {},
   "source": [
    "Let's print the school data again."
   ]
  },
  {
   "cell_type": "code",
   "execution_count": 30,
   "metadata": {},
   "outputs": [
    {
     "data": {
      "text/plain": [
       "Text(12.625, 0.5, 'Latitude')"
      ]
     },
     "execution_count": 30,
     "metadata": {},
     "output_type": "execute_result"
    },
    {
     "data": {
      "image/png": "[encoded data removed]",
      "text/plain": [
       "<Figure size 432x288 with 1 Axes>"
      ]
     },
     "metadata": {},
     "output_type": "display_data"
    }
   ],
   "source": [
    "# plot footprint\n",
    "ax = area.plot(facecolor = \"black\")\n",
    "\n",
    "# plot schools\n",
    "schools.plot(ax = ax, alpha = 1.0) \n",
    "plt.tight_layout()\n",
    "\n",
    "# add title, x,y-labels to graph\n",
    "plt.title(\"Schools in Nairobi, Kenya\")\n",
    "plt.xlabel(\"Longitude\")\n",
    "plt.ylabel(\"Latitude\")"
   ]
  },
  {
   "cell_type": "markdown",
   "metadata": {},
   "source": [
    "##### 3. Compute the centroid_xy point of each school \n",
    "Notation: (x = lon, y = lat)\n",
    "\n",
    "**Note**: no need to specify \"geometry\" for the column name. The centroid function is implicitly applied to the \"geometry\" column"
   ]
  },
  {
   "cell_type": "code",
   "execution_count": 31,
   "metadata": {},
   "outputs": [
    {
     "name": "stdout",
     "output_type": "stream",
     "text": [
      "Printing head of schools_centroid_xy...\n",
      "\n"
     ]
    },
    {
     "data": {
      "text/plain": [
       "0    (36.8235624, -1.3142125)\n",
       "1    (36.7532749, -1.3401766)\n",
       "dtype: object"
      ]
     },
     "execution_count": 31,
     "metadata": {},
     "output_type": "execute_result"
    }
   ],
   "source": [
    "## compute the schools centroid\n",
    "schools_centroid_xy = get_centroid(schools)\n",
    "\n",
    "print(\"Printing head of schools_centroid_xy...\\n\")\n",
    "schools_centroid_xy.head(2)"
   ]
  },
  {
   "cell_type": "markdown",
   "metadata": {},
   "source": [
    "---\n",
    "### Step 5: Create feature matrix - distance between major roads and school centroids\n",
    "---\n",
    "(based on spatial info on major roads and schools)"
   ]
  },
  {
   "cell_type": "markdown",
   "metadata": {},
   "source": [
    "**Notes**:\n",
    "    \n",
    "[1] Geopy can calculate geodesic distance between two points using the geodesic distance. The geodesic distance is the shortest distance on the surface of an ellipsoidal model of the earth. The default algorithm uses the method is given by Karney (2013) (geodesic); this is accurate to round-off and always converges.\n",
    "\n",
    "[2] We can also use the Great-circle distance (great_circle in geopy); this measure assumes a spherical model of the earth, using the mean earth radius as defined by the International Union of Geodesy and Geophysics\n",
    "\n",
    "Source: https://geopy.readthedocs.io/en/stable/"
   ]
  },
  {
   "cell_type": "markdown",
   "metadata": {},
   "source": [
    "#### (A) Compute distance between roads and school centroids"
   ]
  },
  {
   "cell_type": "code",
   "execution_count": 32,
   "metadata": {},
   "outputs": [
    {
     "name": "stdout",
     "output_type": "stream",
     "text": [
      "Warning: This operation will take a lot of time... about 5 hours\n",
      "Processing data...\n",
      "\n",
      "Distance computed for 500 schools\n",
      "Processing data...\n",
      "\n",
      "Distance computed for 1000 schools\n",
      "Processing data...\n",
      "\n",
      "\n",
      "The distance (in km) was computed for 1452 schools.\n",
      "There are 1452 schools in the data.\n",
      "\n",
      "Time elapsed: 26626.921 seconds.\n"
     ]
    }
   ],
   "source": [
    "print(\"Warning: This operation will take a lot of time... about 5 hours\")\n",
    "\n",
    "school_to_roads_temp = get_distance_to_school(schools_centroid_xy, edges_centroid_xy)\n",
    "school_to_roads = add_row_col_names(schools, edges, school_to_roads_temp, 1)"
   ]
  },
  {
   "cell_type": "markdown",
   "metadata": {},
   "source": [
    "``Question:`` Why do you think it takes about 5 hours to compute the distance? Hint: look at the function implementation."
   ]
  },
  {
   "cell_type": "markdown",
   "metadata": {},
   "source": [
    "#### (B) Descriptive statistics"
   ]
  },
  {
   "cell_type": "code",
   "execution_count": 33,
   "metadata": {},
   "outputs": [
    {
     "name": "stdout",
     "output_type": "stream",
     "text": [
      "Printing head of school_to_roads...\n",
      "\n"
     ]
    },
    {
     "data": {
      "text/html": [
       "<div>\n",
       "<style scoped>\n",
       "    .dataframe tbody tr th:only-of-type {\n",
       "        vertical-align: middle;\n",
       "    }\n",
       "\n",
       "    .dataframe tbody tr th {\n",
       "        vertical-align: top;\n",
       "    }\n",
       "\n",
       "    .dataframe thead th {\n",
       "        text-align: right;\n",
       "    }\n",
       "</style>\n",
       "<table border=\"1\" class=\"dataframe\">\n",
       "  <thead>\n",
       "    <tr style=\"text-align: right;\">\n",
       "      <th></th>\n",
       "      <th>school_name</th>\n",
       "      <th>osmid_[637515176, 637969614]</th>\n",
       "      <th>osmid_728733448</th>\n",
       "      <th>osmid_728733448</th>\n",
       "      <th>osmid_26744416</th>\n",
       "      <th>osmid_637515177</th>\n",
       "      <th>osmid_637515177</th>\n",
       "      <th>osmid_638008306</th>\n",
       "      <th>osmid_97084503</th>\n",
       "      <th>osmid_97084503</th>\n",
       "      <th>...</th>\n",
       "      <th>osmid_204540688</th>\n",
       "      <th>osmid_51067484</th>\n",
       "      <th>osmid_532041176</th>\n",
       "      <th>osmid_532041176</th>\n",
       "      <th>osmid_24027475</th>\n",
       "      <th>osmid_553306827</th>\n",
       "      <th>osmid_231933574</th>\n",
       "      <th>osmid_726091599</th>\n",
       "      <th>osmid_239559116</th>\n",
       "      <th>osmid_660520648</th>\n",
       "    </tr>\n",
       "  </thead>\n",
       "  <tbody>\n",
       "    <tr>\n",
       "      <th>0</th>\n",
       "      <td>Nairobi South</td>\n",
       "      <td>8.856439</td>\n",
       "      <td>8.832983</td>\n",
       "      <td>8.916539</td>\n",
       "      <td>4.347835</td>\n",
       "      <td>9.405340</td>\n",
       "      <td>9.410306</td>\n",
       "      <td>9.428299</td>\n",
       "      <td>15.020048</td>\n",
       "      <td>15.042729</td>\n",
       "      <td>...</td>\n",
       "      <td>2.881127</td>\n",
       "      <td>6.934782</td>\n",
       "      <td>6.927011</td>\n",
       "      <td>6.944462</td>\n",
       "      <td>3.272277</td>\n",
       "      <td>3.500815</td>\n",
       "      <td>3.575857</td>\n",
       "      <td>3.544351</td>\n",
       "      <td>3.080601</td>\n",
       "      <td>3.026351</td>\n",
       "    </tr>\n",
       "    <tr>\n",
       "      <th>1</th>\n",
       "      <td>Nairobi Academy Secondary</td>\n",
       "      <td>16.702130</td>\n",
       "      <td>16.663824</td>\n",
       "      <td>16.747968</td>\n",
       "      <td>3.815882</td>\n",
       "      <td>17.296537</td>\n",
       "      <td>17.294355</td>\n",
       "      <td>17.314068</td>\n",
       "      <td>8.720191</td>\n",
       "      <td>8.744883</td>\n",
       "      <td>...</td>\n",
       "      <td>10.883968</td>\n",
       "      <td>3.858083</td>\n",
       "      <td>3.843317</td>\n",
       "      <td>3.841654</td>\n",
       "      <td>9.368869</td>\n",
       "      <td>9.267330</td>\n",
       "      <td>9.753103</td>\n",
       "      <td>9.767466</td>\n",
       "      <td>9.317566</td>\n",
       "      <td>9.285263</td>\n",
       "    </tr>\n",
       "    <tr>\n",
       "      <th>2</th>\n",
       "      <td>Consolata School</td>\n",
       "      <td>9.245325</td>\n",
       "      <td>9.182429</td>\n",
       "      <td>9.260214</td>\n",
       "      <td>5.500847</td>\n",
       "      <td>9.880712</td>\n",
       "      <td>9.863748</td>\n",
       "      <td>9.885449</td>\n",
       "      <td>12.612258</td>\n",
       "      <td>12.631122</td>\n",
       "      <td>...</td>\n",
       "      <td>6.664518</td>\n",
       "      <td>5.390527</td>\n",
       "      <td>5.395144</td>\n",
       "      <td>5.408389</td>\n",
       "      <td>2.097164</td>\n",
       "      <td>1.761744</td>\n",
       "      <td>2.215186</td>\n",
       "      <td>2.263854</td>\n",
       "      <td>2.247336</td>\n",
       "      <td>2.273431</td>\n",
       "    </tr>\n",
       "    <tr>\n",
       "      <th>3</th>\n",
       "      <td>Aga Khan Nursery</td>\n",
       "      <td>8.129110</td>\n",
       "      <td>8.070824</td>\n",
       "      <td>8.150755</td>\n",
       "      <td>5.714574</td>\n",
       "      <td>8.762046</td>\n",
       "      <td>8.747924</td>\n",
       "      <td>8.769414</td>\n",
       "      <td>13.783092</td>\n",
       "      <td>13.802555</td>\n",
       "      <td>...</td>\n",
       "      <td>5.499952</td>\n",
       "      <td>6.287012</td>\n",
       "      <td>6.289003</td>\n",
       "      <td>6.303856</td>\n",
       "      <td>0.842383</td>\n",
       "      <td>0.501485</td>\n",
       "      <td>0.945314</td>\n",
       "      <td>0.992388</td>\n",
       "      <td>1.015796</td>\n",
       "      <td>1.052098</td>\n",
       "    </tr>\n",
       "    <tr>\n",
       "      <th>4</th>\n",
       "      <td>State House Girls High School</td>\n",
       "      <td>8.705730</td>\n",
       "      <td>8.649356</td>\n",
       "      <td>8.730004</td>\n",
       "      <td>5.128956</td>\n",
       "      <td>9.336813</td>\n",
       "      <td>9.323870</td>\n",
       "      <td>9.345247</td>\n",
       "      <td>13.258920</td>\n",
       "      <td>13.278760</td>\n",
       "      <td>...</td>\n",
       "      <td>5.628483</td>\n",
       "      <td>5.681226</td>\n",
       "      <td>5.682779</td>\n",
       "      <td>5.697862</td>\n",
       "      <td>1.200579</td>\n",
       "      <td>0.917456</td>\n",
       "      <td>1.449984</td>\n",
       "      <td>1.487724</td>\n",
       "      <td>1.304414</td>\n",
       "      <td>1.317549</td>\n",
       "    </tr>\n",
       "  </tbody>\n",
       "</table>\n",
       "<p>5 rows × 120559 columns</p>\n",
       "</div>"
      ],
      "text/plain": [
       "                     school_name  osmid_[637515176, 637969614]  \\\n",
       "0                  Nairobi South                      8.856439   \n",
       "1      Nairobi Academy Secondary                     16.702130   \n",
       "2               Consolata School                      9.245325   \n",
       "3               Aga Khan Nursery                      8.129110   \n",
       "4  State House Girls High School                      8.705730   \n",
       "\n",
       "   osmid_728733448  osmid_728733448  osmid_26744416  osmid_637515177  \\\n",
       "0         8.832983         8.916539        4.347835         9.405340   \n",
       "1        16.663824        16.747968        3.815882        17.296537   \n",
       "2         9.182429         9.260214        5.500847         9.880712   \n",
       "3         8.070824         8.150755        5.714574         8.762046   \n",
       "4         8.649356         8.730004        5.128956         9.336813   \n",
       "\n",
       "   osmid_637515177  osmid_638008306  osmid_97084503  osmid_97084503  ...  \\\n",
       "0         9.410306         9.428299       15.020048       15.042729  ...   \n",
       "1        17.294355        17.314068        8.720191        8.744883  ...   \n",
       "2         9.863748         9.885449       12.612258       12.631122  ...   \n",
       "3         8.747924         8.769414       13.783092       13.802555  ...   \n",
       "4         9.323870         9.345247       13.258920       13.278760  ...   \n",
       "\n",
       "   osmid_204540688  osmid_51067484  osmid_532041176  osmid_532041176  \\\n",
       "0         2.881127        6.934782         6.927011         6.944462   \n",
       "1        10.883968        3.858083         3.843317         3.841654   \n",
       "2         6.664518        5.390527         5.395144         5.408389   \n",
       "3         5.499952        6.287012         6.289003         6.303856   \n",
       "4         5.628483        5.681226         5.682779         5.697862   \n",
       "\n",
       "   osmid_24027475  osmid_553306827  osmid_231933574  osmid_726091599  \\\n",
       "0        3.272277         3.500815         3.575857         3.544351   \n",
       "1        9.368869         9.267330         9.753103         9.767466   \n",
       "2        2.097164         1.761744         2.215186         2.263854   \n",
       "3        0.842383         0.501485         0.945314         0.992388   \n",
       "4        1.200579         0.917456         1.449984         1.487724   \n",
       "\n",
       "   osmid_239559116  osmid_660520648  \n",
       "0         3.080601         3.026351  \n",
       "1         9.317566         9.285263  \n",
       "2         2.247336         2.273431  \n",
       "3         1.015796         1.052098  \n",
       "4         1.304414         1.317549  \n",
       "\n",
       "[5 rows x 120559 columns]"
      ]
     },
     "execution_count": 33,
     "metadata": {},
     "output_type": "execute_result"
    }
   ],
   "source": [
    "print(\"Printing head of school_to_roads...\\n\")\n",
    "school_to_roads.head()"
   ]
  },
  {
   "cell_type": "code",
   "execution_count": 34,
   "metadata": {},
   "outputs": [
    {
     "data": {
      "text/plain": [
       "(1452, 120559)"
      ]
     },
     "execution_count": 34,
     "metadata": {},
     "output_type": "execute_result"
    }
   ],
   "source": [
    "school_to_roads.shape"
   ]
  },
  {
   "cell_type": "markdown",
   "metadata": {},
   "source": [
    "Statistics for each school (describe by line)"
   ]
  },
  {
   "cell_type": "code",
   "execution_count": 35,
   "metadata": {},
   "outputs": [
    {
     "name": "stdout",
     "output_type": "stream",
     "text": [
      "Printing statistics for each school...\n",
      "\n"
     ]
    },
    {
     "data": {
      "text/html": [
       "<div>\n",
       "<style scoped>\n",
       "    .dataframe tbody tr th:only-of-type {\n",
       "        vertical-align: middle;\n",
       "    }\n",
       "\n",
       "    .dataframe tbody tr th {\n",
       "        vertical-align: top;\n",
       "    }\n",
       "\n",
       "    .dataframe thead th {\n",
       "        text-align: right;\n",
       "    }\n",
       "</style>\n",
       "<table border=\"1\" class=\"dataframe\">\n",
       "  <thead>\n",
       "    <tr style=\"text-align: right;\">\n",
       "      <th></th>\n",
       "      <th>count</th>\n",
       "      <th>mean</th>\n",
       "      <th>std</th>\n",
       "      <th>min</th>\n",
       "      <th>25%</th>\n",
       "      <th>50%</th>\n",
       "      <th>75%</th>\n",
       "      <th>max</th>\n",
       "    </tr>\n",
       "  </thead>\n",
       "  <tbody>\n",
       "    <tr>\n",
       "      <th>0</th>\n",
       "      <td>120558.0</td>\n",
       "      <td>10.509392</td>\n",
       "      <td>5.933772</td>\n",
       "      <td>0.027921</td>\n",
       "      <td>6.353322</td>\n",
       "      <td>9.647457</td>\n",
       "      <td>13.519170</td>\n",
       "      <td>30.987890</td>\n",
       "    </tr>\n",
       "    <tr>\n",
       "      <th>1</th>\n",
       "      <td>120558.0</td>\n",
       "      <td>14.969598</td>\n",
       "      <td>8.318521</td>\n",
       "      <td>0.009537</td>\n",
       "      <td>8.097548</td>\n",
       "      <td>14.776818</td>\n",
       "      <td>20.487622</td>\n",
       "      <td>39.054059</td>\n",
       "    </tr>\n",
       "    <tr>\n",
       "      <th>2</th>\n",
       "      <td>120558.0</td>\n",
       "      <td>10.736694</td>\n",
       "      <td>6.549346</td>\n",
       "      <td>0.005082</td>\n",
       "      <td>5.640001</td>\n",
       "      <td>10.162358</td>\n",
       "      <td>13.580632</td>\n",
       "      <td>32.880717</td>\n",
       "    </tr>\n",
       "    <tr>\n",
       "      <th>3</th>\n",
       "      <td>120558.0</td>\n",
       "      <td>10.247522</td>\n",
       "      <td>6.219962</td>\n",
       "      <td>0.014473</td>\n",
       "      <td>5.515767</td>\n",
       "      <td>9.567623</td>\n",
       "      <td>12.997558</td>\n",
       "      <td>31.674396</td>\n",
       "    </tr>\n",
       "    <tr>\n",
       "      <th>4</th>\n",
       "      <td>120558.0</td>\n",
       "      <td>10.405731</td>\n",
       "      <td>6.386719</td>\n",
       "      <td>0.013476</td>\n",
       "      <td>5.483741</td>\n",
       "      <td>9.776944</td>\n",
       "      <td>13.242604</td>\n",
       "      <td>32.186836</td>\n",
       "    </tr>\n",
       "  </tbody>\n",
       "</table>\n",
       "</div>"
      ],
      "text/plain": [
       "      count       mean       std       min       25%        50%        75%  \\\n",
       "0  120558.0  10.509392  5.933772  0.027921  6.353322   9.647457  13.519170   \n",
       "1  120558.0  14.969598  8.318521  0.009537  8.097548  14.776818  20.487622   \n",
       "2  120558.0  10.736694  6.549346  0.005082  5.640001  10.162358  13.580632   \n",
       "3  120558.0  10.247522  6.219962  0.014473  5.515767   9.567623  12.997558   \n",
       "4  120558.0  10.405731  6.386719  0.013476  5.483741   9.776944  13.242604   \n",
       "\n",
       "         max  \n",
       "0  30.987890  \n",
       "1  39.054059  \n",
       "2  32.880717  \n",
       "3  31.674396  \n",
       "4  32.186836  "
      ]
     },
     "execution_count": 35,
     "metadata": {},
     "output_type": "execute_result"
    }
   ],
   "source": [
    "stats_each_school_roads = stats_for_each_school(school_to_roads)\n",
    "print(\"Printing statistics for each school...\\n\")\n",
    "stats_each_school_roads.head()"
   ]
  },
  {
   "cell_type": "markdown",
   "metadata": {},
   "source": [
    "Statistics for each school (describe by column)"
   ]
  },
  {
   "cell_type": "code",
   "execution_count": 36,
   "metadata": {},
   "outputs": [
    {
     "name": "stdout",
     "output_type": "stream",
     "text": [
      "Printing statistics for all schools...\n",
      "\n"
     ]
    },
    {
     "data": {
      "text/html": [
       "<div>\n",
       "<style scoped>\n",
       "    .dataframe tbody tr th:only-of-type {\n",
       "        vertical-align: middle;\n",
       "    }\n",
       "\n",
       "    .dataframe tbody tr th {\n",
       "        vertical-align: top;\n",
       "    }\n",
       "\n",
       "    .dataframe thead th {\n",
       "        text-align: right;\n",
       "    }\n",
       "</style>\n",
       "<table border=\"1\" class=\"dataframe\">\n",
       "  <thead>\n",
       "    <tr style=\"text-align: right;\">\n",
       "      <th></th>\n",
       "      <th>count</th>\n",
       "      <th>mean</th>\n",
       "      <th>std</th>\n",
       "      <th>min</th>\n",
       "      <th>25%</th>\n",
       "      <th>50%</th>\n",
       "      <th>75%</th>\n",
       "      <th>max</th>\n",
       "    </tr>\n",
       "  </thead>\n",
       "  <tbody>\n",
       "    <tr>\n",
       "      <th>count</th>\n",
       "      <td>1452.0</td>\n",
       "      <td>1452.000000</td>\n",
       "      <td>1452.000000</td>\n",
       "      <td>1452.000000</td>\n",
       "      <td>1452.000000</td>\n",
       "      <td>1452.000000</td>\n",
       "      <td>1452.000000</td>\n",
       "      <td>1452.000000</td>\n",
       "    </tr>\n",
       "    <tr>\n",
       "      <th>mean</th>\n",
       "      <td>120558.0</td>\n",
       "      <td>11.677544</td>\n",
       "      <td>6.808222</td>\n",
       "      <td>0.037743</td>\n",
       "      <td>6.287660</td>\n",
       "      <td>10.846509</td>\n",
       "      <td>15.733750</td>\n",
       "      <td>32.498112</td>\n",
       "    </tr>\n",
       "    <tr>\n",
       "      <th>std</th>\n",
       "      <td>0.0</td>\n",
       "      <td>2.095735</td>\n",
       "      <td>1.177405</td>\n",
       "      <td>0.026906</td>\n",
       "      <td>1.151704</td>\n",
       "      <td>2.555975</td>\n",
       "      <td>2.743455</td>\n",
       "      <td>5.279294</td>\n",
       "    </tr>\n",
       "    <tr>\n",
       "      <th>min</th>\n",
       "      <td>120558.0</td>\n",
       "      <td>9.346926</td>\n",
       "      <td>5.236903</td>\n",
       "      <td>0.000922</td>\n",
       "      <td>4.497609</td>\n",
       "      <td>7.807643</td>\n",
       "      <td>12.370876</td>\n",
       "      <td>25.032330</td>\n",
       "    </tr>\n",
       "    <tr>\n",
       "      <th>25%</th>\n",
       "      <td>120558.0</td>\n",
       "      <td>9.935669</td>\n",
       "      <td>5.604030</td>\n",
       "      <td>0.018580</td>\n",
       "      <td>5.437640</td>\n",
       "      <td>8.767959</td>\n",
       "      <td>13.389162</td>\n",
       "      <td>27.050583</td>\n",
       "    </tr>\n",
       "    <tr>\n",
       "      <th>50%</th>\n",
       "      <td>120558.0</td>\n",
       "      <td>11.533233</td>\n",
       "      <td>6.841164</td>\n",
       "      <td>0.030981</td>\n",
       "      <td>6.210587</td>\n",
       "      <td>10.598721</td>\n",
       "      <td>15.221309</td>\n",
       "      <td>33.710045</td>\n",
       "    </tr>\n",
       "    <tr>\n",
       "      <th>75%</th>\n",
       "      <td>120558.0</td>\n",
       "      <td>12.700254</td>\n",
       "      <td>7.690063</td>\n",
       "      <td>0.050559</td>\n",
       "      <td>6.647176</td>\n",
       "      <td>11.938368</td>\n",
       "      <td>17.349123</td>\n",
       "      <td>36.368552</td>\n",
       "    </tr>\n",
       "    <tr>\n",
       "      <th>max</th>\n",
       "      <td>120558.0</td>\n",
       "      <td>22.929542</td>\n",
       "      <td>10.093608</td>\n",
       "      <td>0.224458</td>\n",
       "      <td>16.826418</td>\n",
       "      <td>23.124438</td>\n",
       "      <td>30.555834</td>\n",
       "      <td>47.824604</td>\n",
       "    </tr>\n",
       "  </tbody>\n",
       "</table>\n",
       "</div>"
      ],
      "text/plain": [
       "          count         mean          std          min          25%  \\\n",
       "count    1452.0  1452.000000  1452.000000  1452.000000  1452.000000   \n",
       "mean   120558.0    11.677544     6.808222     0.037743     6.287660   \n",
       "std         0.0     2.095735     1.177405     0.026906     1.151704   \n",
       "min    120558.0     9.346926     5.236903     0.000922     4.497609   \n",
       "25%    120558.0     9.935669     5.604030     0.018580     5.437640   \n",
       "50%    120558.0    11.533233     6.841164     0.030981     6.210587   \n",
       "75%    120558.0    12.700254     7.690063     0.050559     6.647176   \n",
       "max    120558.0    22.929542    10.093608     0.224458    16.826418   \n",
       "\n",
       "               50%          75%          max  \n",
       "count  1452.000000  1452.000000  1452.000000  \n",
       "mean     10.846509    15.733750    32.498112  \n",
       "std       2.555975     2.743455     5.279294  \n",
       "min       7.807643    12.370876    25.032330  \n",
       "25%       8.767959    13.389162    27.050583  \n",
       "50%      10.598721    15.221309    33.710045  \n",
       "75%      11.938368    17.349123    36.368552  \n",
       "max      23.124438    30.555834    47.824604  "
      ]
     },
     "execution_count": 36,
     "metadata": {},
     "output_type": "execute_result"
    }
   ],
   "source": [
    "stats_all_school_roads = stats_for_all_schools(stats_each_school_roads)\n",
    "print(\"Printing statistics for all schools...\\n\")\n",
    "stats_all_school_roads"
   ]
  },
  {
   "cell_type": "markdown",
   "metadata": {},
   "source": [
    "---\n",
    "### Step 6: Establish empirical relationship between PM2.5 levels recorded at the school level and sources of pollution \n",
    "---\n",
    "(key sources of pollution: major roads, airports, industrial sites, slums, etc.)"
   ]
  },
  {
   "cell_type": "markdown",
   "metadata": {},
   "source": [
    "``Question 1:`` We need one more data element to establish this empirical relationship. What is it?\n",
    "\n",
    "``Question 2:`` What is the dimension of our feature matrix? Do we need all this information? If not, what is your solution?\n",
    "\n",
    "``Question 3:`` How your answer to question 2 is going to impact the interpretation of causal effects for Objective 4 listed above?"
   ]
  },
  {
   "cell_type": "markdown",
   "metadata": {},
   "source": [
    "### Breakout room exercise\n",
    " - implement the get_distance_to_school() function in an efficient way.\n",
    " - play with different countries (states if US), cities, counties etc. Hint: change place_name variable here: place_name = \"Nairobi, Kenya\", graph = ox.graph_from_place(place_name, network_type = \"all_private\").\n",
    " - play with different major sources of pollution (e.g., airports, power plants, etc.). Hint: change amenities attribute here: ox.pois_from_place(place_name, amenities=['school'])."
   ]
  }
 ],
 "metadata": {
  "kernelspec": {
   "display_name": "Python 3",
   "language": "python",
   "name": "python3"
  },
  "language_info": {
   "codemirror_mode": {
    "name": "ipython",
    "version": 3
   },
   "file_extension": ".py",
   "mimetype": "text/x-python",
   "name": "python",
   "nbconvert_exporter": "python",
   "pygments_lexer": "ipython3",
   "version": "3.7.3"
  }
 },
 "nbformat": 4,
 "nbformat_minor": 4
}
