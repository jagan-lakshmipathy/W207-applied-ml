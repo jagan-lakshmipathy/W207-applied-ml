{
 "cells": [
  {
   "cell_type": "markdown",
   "metadata": {},
   "source": [
    "## Week 1: Introduction\n",
    "\n",
    "Instructor: Cornelia Ilin <br>\n",
    "Email: cilin@ischool.berkeley.edu <br>"
   ]
  },
  {
   "cell_type": "markdown",
   "metadata": {},
   "source": [
    "This notebook is intended to introduce you to running ipython notebook and to familiarize you with some basics of numpy, matplotlib, and sklearn, which you'll use extensively in this course. \n",
    "\n",
    "Read through the commands, try making changes, and make sure you understand how the plots below are generated.\n",
    "\n",
    "In your projects, you should focus on making your code as organized and readable as possible. Use lots of comments -- see the code below -- !!\n",
    "\n",
    "You should also familiarize yourself with the various keyboard shortcuts for moving between cells and running cells. Ctrl-ENTER runs a cell, while shift-ENTER runs a cell and advances focus to the next cell."
   ]
  },
  {
   "cell_type": "markdown",
   "metadata": {},
   "source": [
    "### Documentation\n",
    "\n",
    "[1] Generate evenly spaced numbers: https://docs.scipy.org/doc/numpy/reference/generated/numpy.linspace.html\n",
    "\n",
    "[2] Python's lambda syntax: <br>\n",
    "http://www.python-course.eu/lambda.php\n",
    "\n",
    "[3] Return a sample from the standard Normal distribution: <br>\n",
    "https://docs.scipy.org/doc/numpy-1.14.0/reference/generated/numpy.random.randn.html#numpy.random.randn\n",
    "\n",
    "[4] Sklearn documentation for linear regression: <br>\n",
    "http://scikit-learn.org/stable/modules/generated/sklearn.linear_model.LinearRegression.html\n",
    "\n",
    "[5] Sklearn documentation for the PolynomialFeatures preprocessor: <br>\n",
    "http://scikit-learn.org/stable/modules/generated/sklearn.preprocessing.PolynomialFeatures.html"
   ]
  },
  {
   "cell_type": "markdown",
   "metadata": {},
   "source": [
    "### Step 1: Define classes"
   ]
  },
  {
   "cell_type": "code",
   "execution_count": null,
   "metadata": {},
   "outputs": [],
   "source": []
  },
  {
   "cell_type": "markdown",
   "metadata": {},
   "source": [
    "### Step 2: Define functions"
   ]
  },
  {
   "cell_type": "code",
   "execution_count": null,
   "metadata": {},
   "outputs": [],
   "source": []
  },
  {
   "cell_type": "markdown",
   "metadata": {},
   "source": [
    "### Step 3: Import packages"
   ]
  },
  {
   "cell_type": "code",
   "execution_count": 33,
   "metadata": {},
   "outputs": [],
   "source": [
    "import numpy as np\n",
    "import matplotlib.pyplot as plt\n",
    "from sklearn.linear_model import LinearRegression\n",
    "from sklearn.preprocessing import PolynomialFeatures\n",
    "from sklearn.pipeline import Pipeline\n",
    "\n",
    "# This tells matplolib not to try opening a new window for each plot\n",
    "%matplotlib inline"
   ]
  },
  {
   "cell_type": "markdown",
   "metadata": {},
   "source": [
    "### Step 4: Set working directories"
   ]
  },
  {
   "cell_type": "code",
   "execution_count": null,
   "metadata": {},
   "outputs": [],
   "source": []
  },
  {
   "cell_type": "markdown",
   "metadata": {},
   "source": [
    "### Step 5: Define global variables"
   ]
  },
  {
   "cell_type": "code",
   "execution_count": 35,
   "metadata": {},
   "outputs": [],
   "source": [
    "# set a randomizer seeds (this will ensure the results are the same each time)\n",
    "np.random.seed(100)\n",
    "\n",
    "# set len(X)\n",
    "len_X = 20"
   ]
  },
  {
   "cell_type": "markdown",
   "metadata": {},
   "source": [
    "### Step 6: Read data"
   ]
  },
  {
   "cell_type": "markdown",
   "metadata": {},
   "source": [
    "This time we will generate our own data (y, X), by using a random number generator."
   ]
  },
  {
   "cell_type": "markdown",
   "metadata": {},
   "source": [
    "generate X:"
   ]
  },
  {
   "cell_type": "code",
   "execution_count": 36,
   "metadata": {},
   "outputs": [],
   "source": [
    "# generate evenly spaced X values in [0, 1]. Set len(X) = 20\n",
    "X = np.linspace(0, 1, len_X)"
   ]
  },
  {
   "cell_type": "code",
   "execution_count": 37,
   "metadata": {},
   "outputs": [
    {
     "name": "stdout",
     "output_type": "stream",
     "text": [
      "Question 1: What is the data type of X?\n",
      "<class 'numpy.ndarray'>\n",
      "[0.         0.05263158 0.10526316 0.15789474 0.21052632 0.26315789\n",
      " 0.31578947 0.36842105 0.42105263 0.47368421 0.52631579 0.57894737\n",
      " 0.63157895 0.68421053 0.73684211 0.78947368 0.84210526 0.89473684\n",
      " 0.94736842 1.        ]\n"
     ]
    }
   ],
   "source": [
    "print(\"Question 1: What is the data type of X?\")\n",
    "print(type(X))\n",
    "print(X)"
   ]
  },
  {
   "cell_type": "markdown",
   "metadata": {},
   "source": [
    "generate y:"
   ]
  },
  {
   "cell_type": "code",
   "execution_count": 38,
   "metadata": {},
   "outputs": [
    {
     "name": "stdout",
     "output_type": "stream",
     "text": [
      "1.0\n",
      "-0.7071067811865475\n",
      "[ 1.         -0.70710678]\n"
     ]
    }
   ],
   "source": [
    "# create a \"true\" function (a piece of a cosine curve) that we will try to approximate with a model\n",
    "true_function = lambda x: np.cos(1.5 * np.pi * x)\n",
    "\n",
    "# try this function out. Notice that you can apply it to a scalar, an array, or you can use it even in pandas\n",
    "print(true_function(0))\n",
    "print(true_function(0.5))\n",
    "print(true_function(np.array([0, 0.5])))"
   ]
  },
  {
   "cell_type": "code",
   "execution_count": 39,
   "metadata": {},
   "outputs": [
    {
     "name": "stdout",
     "output_type": "stream",
     "text": [
      "['1.00', '0.97', '0.88', '0.74', '0.55', '0.32', '0.08', '-0.16', '-0.40', '-0.61', '-0.79', '-0.92', '-0.99', '-1.00', '-0.95', '-0.84', '-0.68', '-0.48', '-0.25', '-0.00']\n"
     ]
    }
   ],
   "source": [
    "# generate true y values\n",
    "y = true_function(X)\n",
    "\n",
    "# print the values of y to the nearest hundredth\n",
    "print (['%.2f' %i for i in y])"
   ]
  },
  {
   "cell_type": "code",
   "execution_count": 40,
   "metadata": {},
   "outputs": [
    {
     "name": "stdout",
     "output_type": "stream",
     "text": [
      "['0.65', '1.04', '1.11', '0.69', '0.74', '0.43', '0.13', '-0.38', '-0.44', '-0.56', '-0.88', '-0.83', '-1.10', '-0.83', '-0.81', '-0.86', '-0.78', '-0.27', '-0.33', '-0.22']\n"
     ]
    }
   ],
   "source": [
    "# add random noise to y\n",
    "# the randn function samples random numbers from the standard Normal distribution\n",
    "# multiplying adjusts the standard deviation of the distribution\n",
    "noise = np.random.randn(len_X) * 0.2\n",
    "y += noise\n",
    "\n",
    "# print the noise-added values of y for comparison.\n",
    "print (['%.2f' %i for i in y])"
   ]
  },
  {
   "cell_type": "markdown",
   "metadata": {},
   "source": [
    "Next, we want to predict y, using the feature vector X. \n",
    "\n",
    "In this course, our outputs (y) will always be 1-dimensional. Our inputs (X) will usually have more than 1 dimension. Today, for simplicity, we have just a single feature. \n",
    "\n",
    "Since the machine learning classes in sklearn expect input feature vectors, we need to turn each input x in X into a feature vector [x]."
   ]
  },
  {
   "cell_type": "markdown",
   "metadata": {},
   "source": [
    "### Step 7: Clean data"
   ]
  },
  {
   "cell_type": "code",
   "execution_count": 41,
   "metadata": {},
   "outputs": [
    {
     "name": "stdout",
     "output_type": "stream",
     "text": [
      "[[0.        ]\n",
      " [0.05263158]\n",
      " [0.10526316]\n",
      " [0.15789474]\n",
      " [0.21052632]\n",
      " [0.26315789]\n",
      " [0.31578947]\n",
      " [0.36842105]\n",
      " [0.42105263]\n",
      " [0.47368421]\n",
      " [0.52631579]\n",
      " [0.57894737]\n",
      " [0.63157895]\n",
      " [0.68421053]\n",
      " [0.73684211]\n",
      " [0.78947368]\n",
      " [0.84210526]\n",
      " [0.89473684]\n",
      " [0.94736842]\n",
      " [1.        ]]\n"
     ]
    }
   ],
   "source": [
    "# transform X into a vector (an alternative command is X = np.transpose(X))\n",
    "X = X[:, np.newaxis]\n",
    "print(X)"
   ]
  },
  {
   "cell_type": "markdown",
   "metadata": {},
   "source": [
    "### Step 8: Analysis (model fit)"
   ]
  },
  {
   "cell_type": "markdown",
   "metadata": {},
   "source": [
    "###### Linear model"
   ]
  },
  {
   "cell_type": "code",
   "execution_count": 91,
   "metadata": {},
   "outputs": [
    {
     "name": "stdout",
     "output_type": "stream",
     "text": [
      "0.6829479574455164\n",
      "[-1.71849162]\n",
      "Estimated function: y = 0.68 + -1.72x\n",
      "Predicted values:\n",
      "[ 0.68294796  0.59250103  0.5020541   0.41160718  0.32116025  0.23071332\n",
      "  0.14026639  0.04981947 -0.04062746 -0.13107439 -0.22152132 -0.31196824\n",
      " -0.40241517 -0.4928621  -0.58330903 -0.67375595 -0.76420288 -0.85464981\n",
      " -0.94509674 -1.03554366]\n"
     ]
    }
   ],
   "source": [
    "# model fit\n",
    "lm = LinearRegression(fit_intercept = True)\n",
    "lm.fit(X, y)\n",
    "lm_yhat = lm.predict(X)\n",
    "print(lm.intercept_)\n",
    "print(lm.coef_)\n",
    "print ('Estimated function: y = %.2f + %.2fx' %(lm.intercept_, lm.coef_[0]))\n",
    "print('Predicted values:')\n",
    "print(lm_yhat)"
   ]
  },
  {
   "cell_type": "markdown",
   "metadata": {},
   "source": [
    "Approximating a cosine function with a linear model doesn't work so well. By adding polynomial transformations of our feature(s), we can fit more complex functions. This is often called polynomial (nonlinear) regression. "
   ]
  },
  {
   "cell_type": "markdown",
   "metadata": {},
   "source": [
    "###### Nonlinear model (poly degree==4)"
   ]
  },
  {
   "cell_type": "code",
   "execution_count": 116,
   "metadata": {},
   "outputs": [
    {
     "name": "stdout",
     "output_type": "stream",
     "text": [
      "[[0.00000000e+00 0.00000000e+00 0.00000000e+00 0.00000000e+00]\n",
      " [5.26315789e-02 2.77008310e-03 1.45793847e-04 7.67336039e-06]\n",
      " [1.05263158e-01 1.10803324e-02 1.16635078e-03 1.22773766e-04]\n",
      " [1.57894737e-01 2.49307479e-02 3.93643388e-03 6.21542192e-04]\n",
      " [2.10526316e-01 4.43213296e-02 9.33080624e-03 1.96438026e-03]\n",
      " [2.63157895e-01 6.92520776e-02 1.82242309e-02 4.79585025e-03]\n",
      " [3.15789474e-01 9.97229917e-02 3.14914711e-02 9.94467507e-03]\n",
      " [3.68421053e-01 1.35734072e-01 5.00072897e-02 1.84237383e-02]\n",
      " [4.21052632e-01 1.77285319e-01 7.46464499e-02 3.14300842e-02]\n",
      " [4.73684211e-01 2.24376731e-01 1.06283715e-01 5.03449175e-02]\n",
      " [5.26315789e-01 2.77008310e-01 1.45793847e-01 7.67336039e-02]\n",
      " [5.78947368e-01 3.35180055e-01 1.94051611e-01 1.12345670e-01]\n",
      " [6.31578947e-01 3.98891967e-01 2.51931768e-01 1.59114801e-01]\n",
      " [6.84210526e-01 4.68144044e-01 3.20309083e-01 2.19158846e-01]\n",
      " [7.36842105e-01 5.42936288e-01 4.00058318e-01 2.94779813e-01]\n",
      " [7.89473684e-01 6.23268698e-01 4.92054235e-01 3.88463870e-01]\n",
      " [8.42105263e-01 7.09141274e-01 5.97171599e-01 5.02881347e-01]\n",
      " [8.94736842e-01 8.00554017e-01 7.16285173e-01 6.40886734e-01]\n",
      " [9.47368421e-01 8.97506925e-01 8.50269719e-01 8.05518681e-01]\n",
      " [1.00000000e+00 1.00000000e+00 1.00000000e+00 1.00000000e+00]]\n"
     ]
    }
   ],
   "source": [
    "# create polinomial transformations\n",
    "poly = PolynomialFeatures(degree=4, include_bias=False)\n",
    "X4 = poly.fit_transform(X)\n",
    "print(X4)"
   ]
  },
  {
   "cell_type": "code",
   "execution_count": 118,
   "metadata": {},
   "outputs": [
    {
     "name": "stdout",
     "output_type": "stream",
     "text": [
      "0.7319147255143954\n",
      "[  6.24224927 -43.25265643  63.12320008 -27.06979253]\n",
      "Estimated function: y = 0.73 + 6.24x\n",
      "Predicted values:\n",
      "[ 0.73191473  0.94963597  0.98004012  0.87086724  0.66487221  0.39982469\n",
      "  0.10850918 -0.18127503 -0.44671383 -0.6699783  -0.83822472 -0.94359456\n",
      " -0.98321447 -0.95919629 -0.87863706 -0.75361902 -0.60120958 -0.44346134\n",
      " -0.30741211 -0.22508487]\n"
     ]
    }
   ],
   "source": [
    "# model fit\n",
    "lm4 = LinearRegression(fit_intercept=True)\n",
    "lm4.fit(X4, y)\n",
    "lm4_yhat = lm4.predict(X4)\n",
    "print(lm4.intercept_)\n",
    "print(lm4.coef_)\n",
    "print ('Estimated function: y = %.2f + %.2fx' %(lm4.intercept_, lm4.coef_[0]))\n",
    "print('Predicted values:')\n",
    "print(lm4_yhat)"
   ]
  },
  {
   "cell_type": "markdown",
   "metadata": {},
   "source": [
    "###### Nonlinear model (poly degree==15)"
   ]
  },
  {
   "cell_type": "code",
   "execution_count": 119,
   "metadata": {},
   "outputs": [
    {
     "name": "stdout",
     "output_type": "stream",
     "text": [
      "[[0.00000000e+00 0.00000000e+00 0.00000000e+00 0.00000000e+00\n",
      "  0.00000000e+00 0.00000000e+00 0.00000000e+00 0.00000000e+00\n",
      "  0.00000000e+00 0.00000000e+00 0.00000000e+00 0.00000000e+00\n",
      "  0.00000000e+00 0.00000000e+00 0.00000000e+00]\n",
      " [5.26315789e-02 2.77008310e-03 1.45793847e-04 7.67336039e-06\n",
      "  4.03861073e-07 2.12558460e-08 1.11872874e-09 5.88804597e-11\n",
      "  3.09897157e-12 1.63103767e-13 8.58440877e-15 4.51810988e-16\n",
      "  2.37795257e-17 1.25155398e-18 6.58712623e-20]\n",
      " [1.05263158e-01 1.10803324e-02 1.16635078e-03 1.22773766e-04\n",
      "  1.29235543e-05 1.36037414e-06 1.43197278e-07 1.50733977e-08\n",
      "  1.58667344e-09 1.67018257e-10 1.75808692e-11 1.85061781e-12\n",
      "  1.94801874e-13 2.05054605e-14 2.15846952e-15]]\n"
     ]
    }
   ],
   "source": [
    "# create polinomial transformations\n",
    "poly = PolynomialFeatures(degree=15, include_bias=False)\n",
    "X15 = poly.fit_transform(X)\n",
    "print(X15[0:3])"
   ]
  },
  {
   "cell_type": "code",
   "execution_count": 120,
   "metadata": {},
   "outputs": [
    {
     "name": "stdout",
     "output_type": "stream",
     "text": [
      "0.6500299482129823\n",
      "[-1.93219800e+02  1.03883326e+04 -2.16189952e+05  2.46460166e+06\n",
      " -1.77205791e+07  8.65952871e+07 -3.00453444e+08  7.58866070e+08\n",
      " -1.41127741e+09  1.93203440e+09 -1.92296034e+09  1.35259700e+09\n",
      " -6.36783600e+08  1.79874544e+08 -2.30305366e+07]\n",
      "Estimated function: y = 0.65 + -193.22x\n",
      "Predicted values:\n",
      "[ 0.65002995  1.03820958  1.10811322  0.69391913  0.71719685  0.48279596\n",
      "  0.04359589 -0.2956399  -0.47568615 -0.60494346 -0.77420569 -0.95263522\n",
      " -1.00626159 -0.88780771 -0.78891068 -0.86450873 -0.78232212 -0.27012057\n",
      " -0.33311267 -0.22366328]\n"
     ]
    }
   ],
   "source": [
    "# model fit\n",
    "lm15 = LinearRegression(fit_intercept=True)\n",
    "lm15.fit(X15, y)\n",
    "lm15_yhat = lm15.predict(X15)\n",
    "print(lm15.intercept_)\n",
    "print(lm15.coef_)\n",
    "print ('Estimated function: y = %.2f + %.2fx' %(lm15.intercept_, lm15.coef_[0]))\n",
    "print('Predicted values:')\n",
    "print(lm15_yhat)"
   ]
  },
  {
   "cell_type": "markdown",
   "metadata": {},
   "source": [
    "### Step 9: Plots"
   ]
  },
  {
   "cell_type": "code",
   "execution_count": 124,
   "metadata": {},
   "outputs": [
    {
     "data": {
      "image/png": "[encoded data removed]",
      "text/plain": [
       "<Figure size 1008x288 with 3 Axes>"
      ]
     },
     "metadata": {
      "needs_background": "light"
     },
     "output_type": "display_data"
    }
   ],
   "source": [
    "degrees = [1, 4, 15]\n",
    "\n",
    "# Initialize a new plot and set plot size\n",
    "plt.figure(figsize=(14, 4)) \n",
    "\n",
    "for i in range(len(degrees)):\n",
    "    # create sublots that are all on the same row\n",
    "    ax = plt.subplot(1, len(degrees), i+1)\n",
    "    \n",
    "    # create the polynomial feature vector (or matrix)\n",
    "    poly = PolynomialFeatures(degree = degrees[i], include_bias = False)\n",
    "    temp_X = poly.fit_transform(X)\n",
    "    \n",
    "    # model fit\n",
    "    lm = LinearRegression()\n",
    "    lm.fit(temp_X, y)\n",
    "    lm_yhat = lm.predict(temp_X)\n",
    "\n",
    "    # plot the true function\n",
    "    plt.plot(X, true_function(X), label=\"True function\");\n",
    "\n",
    "    # plot the true function with noise added\n",
    "    plt.scatter(X, y, label=\"Function with noise\");\n",
    "\n",
    "    # Show the fitted function for the linear model\n",
    "    plt.plot(X, lm_yhat, label=\"Fitted model\");\n",
    "\n",
    "    # Add labels, title, legend to the plot\n",
    "    plt.xlabel(\"x\")\n",
    "    plt.ylabel(\"y\")\n",
    "    plt.xlim((-.05, 1.05))\n",
    "    plt.ylim((-2, 2))\n",
    "    plt.legend(loc=\"best\")\n",
    "    plt.title(\"Degree %d\" %degrees[i])"
   ]
  },
  {
   "cell_type": "markdown",
   "metadata": {},
   "source": [
    "### Conclusions"
   ]
  },
  {
   "cell_type": "markdown",
   "metadata": {},
   "source": [
    "The machine learning lesson here is that we are interested in the smallest model that fits our data the best. Clearly, the degree 1 model, while very small (only 2 parameters), doesn't fit the observed data well. The degree 15 model fits the observed data extremely well, but is unlikely to generalize to new data. This is a case of \"over-fitting\", which often happens when we try to estimate too many parameters from just a few examples. The degree 4 model appears to be a good blend of small model size and good generalization."
   ]
  }
 ],
 "metadata": {
  "kernelspec": {
   "display_name": "Python 3",
   "language": "python",
   "name": "python3"
  },
  "language_info": {
   "codemirror_mode": {
    "name": "ipython",
    "version": 3
   },
   "file_extension": ".py",
   "mimetype": "text/x-python",
   "name": "python",
   "nbconvert_exporter": "python",
   "pygments_lexer": "ipython3",
   "version": "3.7.3"
  }
 },
 "nbformat": 4,
 "nbformat_minor": 2
}
